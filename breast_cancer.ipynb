{
 "cells": [
  {
   "cell_type": "code",
   "execution_count": 2,
   "id": "96f62fb5-4981-4bc1-9585-21d3769d1a9e",
   "metadata": {},
   "outputs": [
    {
     "name": "stdout",
     "output_type": "stream",
     "text": [
      " Dataset is ready!\n",
      "<class 'pandas.core.frame.DataFrame'>\n",
      "RangeIndex: 699 entries, 0 to 698\n",
      "Data columns (total 10 columns):\n",
      " #   Column                       Non-Null Count  Dtype  \n",
      "---  ------                       --------------  -----  \n",
      " 0   Clump Thickness              699 non-null    float64\n",
      " 1   Uniformity of Cell Size      699 non-null    float64\n",
      " 2   Uniformity of Cell Shape     699 non-null    float64\n",
      " 3   Marginal Adhesion            699 non-null    float64\n",
      " 4   Single Epithelial Cell Size  699 non-null    float64\n",
      " 5   Bare Nuclei                  699 non-null    float64\n",
      " 6   Bland Chromatin              699 non-null    float64\n",
      " 7   Normal Nucleoli              699 non-null    float64\n",
      " 8   Mitoses                      699 non-null    float64\n",
      " 9   Class                        699 non-null    int64  \n",
      "dtypes: float64(9), int64(1)\n",
      "memory usage: 54.7 KB\n",
      "None\n"
     ]
    }
   ],
   "source": [
    "import pandas as pd\n",
    "import numpy as np\n",
    "\n",
    "# Step 1: Load the dataset\n",
    "df = pd.read_csv(\"dataset/breast_cancer_data.csv\", header=None)\n",
    "\n",
    "# Step 2: Assign proper column names\n",
    "df.columns = [\n",
    "    \"Sample code number\", \"Clump Thickness\", \"Uniformity of Cell Size\",\n",
    "    \"Uniformity of Cell Shape\", \"Marginal Adhesion\", \"Single Epithelial Cell Size\",\n",
    "    \"Bare Nuclei\", \"Bland Chromatin\", \"Normal Nucleoli\", \"Mitoses\", \"Class\"\n",
    "]\n",
    "\n",
    "# Step 3: Replace '?' with np.nan\n",
    "df.replace('?', np.nan, inplace=True)\n",
    "\n",
    "# Step 4: Drop the ID column\n",
    "df.drop(\"Sample code number\", axis=1, inplace=True)\n",
    "\n",
    "# Step 5: Convert numeric columns (excluding target label)\n",
    "cols_to_convert = df.columns.drop('Class')\n",
    "df[cols_to_convert] = df[cols_to_convert].astype(float)\n",
    "\n",
    "# Step 6: Fill missing values with column median\n",
    "df.fillna(df.median(numeric_only=True), inplace=True)\n",
    "\n",
    "# Step 7: Convert target labels (2 → 0, 4 → 1)\n",
    "df['Class'] = df['Class'].map({2.0: 0, 4.0: 1})\n",
    "\n",
    "# Final check\n",
    "print(\" Dataset is ready!\")\n",
    "print(df.info())\n"
   ]
  },
  {
   "cell_type": "code",
   "execution_count": 3,
   "id": "636f4eae-41ca-4535-8bf4-9b0767fbd98b",
   "metadata": {},
   "outputs": [
    {
     "name": "stdout",
     "output_type": "stream",
     "text": [
      " Model Accuracy: 96.43%\n",
      " Model saved as models/breast_cancer_model.pkl\n"
     ]
    }
   ],
   "source": [
    "from sklearn.model_selection import train_test_split\n",
    "from sklearn.ensemble import RandomForestClassifier\n",
    "from sklearn.metrics import accuracy_score\n",
    "import joblib\n",
    "import os\n",
    "\n",
    "#1. Split Features and Target\n",
    "X = df.drop(\"Class\", axis=1)  # All feature columns\n",
    "y = df[\"Class\"]\n",
    "\n",
    " #2. Split Dataset for Training and Testing\n",
    "X_train, X_test, y_train, y_test = train_test_split(X, y, \n",
    "                                                    test_size=0.2, \n",
    "                                                    random_state=42)\n",
    "\n",
    "# 3. Train Random Forest Model\n",
    "model = RandomForestClassifier(random_state=42)\n",
    "model.fit(X_train, y_train)\n",
    "\n",
    "#  4. Evaluate the Model\n",
    "accuracy = accuracy_score(y_test, model.predict(X_test))\n",
    "print(f\" Model Accuracy: {accuracy * 100:.2f}%\")\n",
    "\n",
    "#  5. Save Model\n",
    "os.makedirs(\"models\", exist_ok=True)\n",
    "joblib.dump(model, \"models/breast_cancer_model.pkl\")\n",
    "print(\" Model saved as models/breast_cancer_model.pkl\")\n"
   ]
  },
  {
   "cell_type": "code",
   "execution_count": null,
   "id": "1e7ef8ec-2a7d-4f44-b797-d51dc4b7a067",
   "metadata": {},
   "outputs": [],
   "source": []
  }
 ],
 "metadata": {
  "kernelspec": {
   "display_name": "Python 3 (ipykernel)",
   "language": "python",
   "name": "python3"
  },
  "language_info": {
   "codemirror_mode": {
    "name": "ipython",
    "version": 3
   },
   "file_extension": ".py",
   "mimetype": "text/x-python",
   "name": "python",
   "nbconvert_exporter": "python",
   "pygments_lexer": "ipython3",
   "version": "3.11.5"
  }
 },
 "nbformat": 4,
 "nbformat_minor": 5
}
