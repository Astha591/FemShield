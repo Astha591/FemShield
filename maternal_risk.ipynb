{
 "cells": [
  {
   "cell_type": "code",
   "execution_count": 6,
   "id": "399cd685-a7a3-4ea4-a0dc-8d51f62a715e",
   "metadata": {},
   "outputs": [
    {
     "name": "stdout",
     "output_type": "stream",
     "text": [
      "   Age  SystolicBP  DiastolicBP    BS  BodyTemp  HeartRate  RiskLevel\n",
      "0   25         130           80  15.0      98.0         86  high risk\n",
      "1   35         140           90  13.0      98.0         70  high risk\n",
      "2   29          90           70   8.0     100.0         80  high risk\n",
      "3   30         140           85   7.0      98.0         70  high risk\n",
      "4   35         120           60   6.1      98.0         76   low risk\n"
     ]
    },
    {
     "name": "stderr",
     "output_type": "stream",
     "text": [
      "C:\\Users\\astha\\AppData\\Local\\Programs\\Python\\Python311\\Lib\\site-packages\\xgboost\\training.py:183: UserWarning: [18:34:16] WARNING: C:\\actions-runner\\_work\\xgboost\\xgboost\\src\\learner.cc:738: \n",
      "Parameters: { \"use_label_encoder\" } are not used.\n",
      "\n",
      "  bst.update(dtrain, iteration=i, fobj=obj)\n"
     ]
    },
    {
     "name": "stdout",
     "output_type": "stream",
     "text": [
      "\n",
      "Confusion Matrix:\n",
      " [[50  0  5]\n",
      " [ 2 65 14]\n",
      " [ 2  6 59]]\n",
      "\n",
      "Classification Report:\n",
      "               precision    recall  f1-score   support\n",
      "\n",
      "   high risk       0.93      0.91      0.92        55\n",
      "    low risk       0.92      0.80      0.86        81\n",
      "    mid risk       0.76      0.88      0.81        67\n",
      "\n",
      "    accuracy                           0.86       203\n",
      "   macro avg       0.87      0.86      0.86       203\n",
      "weighted avg       0.87      0.86      0.86       203\n",
      "\n",
      "\n",
      "✅ Model and Label Encoder saved as 'model/maternal_risk_model_bundle.pkl'.\n"
     ]
    }
   ],
   "source": [
    "import os\n",
    "import pandas as pd\n",
    "from sklearn.model_selection import train_test_split\n",
    "from sklearn.metrics import confusion_matrix, classification_report\n",
    "from sklearn.preprocessing import LabelEncoder\n",
    "import xgboost as xgb\n",
    "import pickle\n",
    "\n",
    "# Load the dataset\n",
    "df = pd.read_csv(\"dataset/health_risk_dataset.csv\")  # Replace with your actual dataset path\n",
    "print(df.head())\n",
    "\n",
    "# Target column\n",
    "target_column = \"RiskLevel\"\n",
    "\n",
    "# Split into features and target\n",
    "features = df.drop(columns=[target_column])\n",
    "target = df[target_column]\n",
    "\n",
    "# Encode the target labels\n",
    "le = LabelEncoder()\n",
    "target_encoded = le.fit_transform(target)\n",
    "\n",
    "# Split into train and test sets\n",
    "X_train, X_test, y_train, y_test = train_test_split(\n",
    "    features,\n",
    "    target_encoded,\n",
    "    test_size=0.2,\n",
    "    stratify=target_encoded,\n",
    "    random_state=42\n",
    ")\n",
    "\n",
    "# Train the XGBoost model\n",
    "model = xgb.XGBClassifier(random_state=42, use_label_encoder=False, eval_metric='mlogloss')\n",
    "model.fit(X_train, y_train)\n",
    "\n",
    "# Evaluate the model\n",
    "y_pred = model.predict(X_test)\n",
    "\n",
    "y_pred_labels = le.inverse_transform(y_pred)\n",
    "y_test_labels = le.inverse_transform(y_test)\n",
    "\n",
    "cm = confusion_matrix(y_test_labels, y_pred_labels)\n",
    "print(\"\\nConfusion Matrix:\\n\", cm)\n",
    "\n",
    "cr = classification_report(y_test_labels, y_pred_labels)\n",
    "print(\"\\nClassification Report:\\n\", cr)\n",
    "\n",
    "# Save the Model + Label Encoder together\n",
    "os.makedirs(\"models\", exist_ok=True)\n",
    "\n",
    "maternal_risk_bundle = {\n",
    "    \"model\": model,\n",
    "    \"label_encoder\": le\n",
    "}\n",
    "\n",
    "with open(\"models/maternal_risk_model_bundle.pkl\", \"wb\") as f:\n",
    "    pickle.dump(maternal_risk_bundle, f)\n",
    "\n",
    "print(\"\\n✅ Model and Label Encoder saved as 'model/maternal_risk_model_bundle.pkl'.\")\n"
   ]
  },
  {
   "cell_type": "code",
   "execution_count": null,
   "id": "d9bc7345-de3a-41f3-aff9-b0408cb39004",
   "metadata": {},
   "outputs": [],
   "source": []
  }
 ],
 "metadata": {
  "kernelspec": {
   "display_name": "Python 3 (ipykernel)",
   "language": "python",
   "name": "python3"
  },
  "language_info": {
   "codemirror_mode": {
    "name": "ipython",
    "version": 3
   },
   "file_extension": ".py",
   "mimetype": "text/x-python",
   "name": "python",
   "nbconvert_exporter": "python",
   "pygments_lexer": "ipython3",
   "version": "3.11.5"
  }
 },
 "nbformat": 4,
 "nbformat_minor": 5
}
